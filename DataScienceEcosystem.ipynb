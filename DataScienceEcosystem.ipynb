{
 "cells": [
  {
   "cell_type": "markdown",
   "metadata": {},
   "source": [
    "<center>\n",
    "    <img src=\"https://cf-courses-data.s3.us.cloud-object-storage.appdomain.cloud/IBMDeveloperSkillsNetwork-DS0105EN-SkillsNetwork/labs/Module2/images/SN_web_lightmode.png\" width=\"300\" alt=\"cognitiveclass.ai logo\">\n",
    "</center>\n"
   ]
  },
  {
   "cell_type": "markdown",
   "metadata": {},
   "source": [
    "#### Add your code below following the instructions given in the course\n",
    "## Introduction\n",
    "\n",
    "In this notebook, Data Science Tools and Ecosystem are summarized.\n",
    "\n",
    "Programming Languages:\n",
    "\n",
    "Python: Widely used for data manipulation, analysis, and visualization with libraries like Pandas, NumPy, Matplotlib, and Seaborn.\n",
    "R: Specialized for statistical analysis, modeling, and visualization using packages like dplyr, ggplot2, and caret.\n",
    "SQL: Used for querying and managing relational databases.\n",
    "Integrated Development Environments (IDEs):\n",
    "\n",
    "Jupyter Notebook: Interactive environment for code, text, and visualizations.\n",
    "RStudio: IDE tailored for R programming.\n",
    "Visual Studio Code: Supports multiple languages and extensions, including data science.\n",
    "Data Manipulation and Analysis:\n",
    "\n",
    "Pandas: Python library for data manipulation and analysis.\n",
    "dplyr: R package for data transformation and summarization.\n",
    "Visualization:\n",
    "\n",
    "Matplotlib, Seaborn, Plotly: Python libraries for creating various types of visualizations.\n",
    "ggplot2: R package for producing declarative graphics.\n",
    "Tableau, Power BI: Tools for creating interactive and business-focused visualizations.\n",
    "Machine Learning and Modeling:\n",
    "\n",
    "Scikit-Learn: Python library for machine learning algorithms.\n",
    "caret: R package for training and evaluating predictive models.\n",
    "TensorFlow, PyTorch: Deep learning frameworks.\n",
    "Data Mining and Preprocessing:\n",
    "\n",
    "Scrapy: Python framework for web scraping.\n",
    "Beautiful Soup: Library for parsing HTML and XML documents.\n",
    "OpenRefine: Tool for cleaning and transforming messy data.\n",
    "Big Data and Distributed Computing:\n",
    "\n",
    "Hadoop, Spark: Distributed computing frameworks for processing large datasets.\n",
    "Dask: Parallel computing library for Python.\n",
    "Version Control and Collaboration:\n",
    "\n",
    "Git, GitHub, GitLab: Version control systems for tracking code changes and collaboration.\n",
    "Conda: Package and environment management system for Python.\n",
    "Cloud Computing and Deployment:\n",
    "\n",
    "Amazon Web Services (AWS), Google Cloud Platform (GCP), Microsoft Azure: Cloud services for scalable data processing and machine learning deployment.\n",
    "Docker, Kubernetes: Containerization and orchestration for deploying applications.\n",
    "Statistical Analysis:\n",
    "\n",
    "SciPy, StatsModels: Python libraries for statistical analysis.\n",
    "R packages: Wide range of packages for statistical tests and modeling.\n",
    "Notebooks and Documentation:\n",
    "\n",
    "Jupyter Notebook, JupyterLab: Creating and sharing interactive documents.\n",
    "RMarkdown, knitr: Creating dynamic reports and documents in R.\n",
    "Automated Testing and Deployment:\n",
    "\n",
    "Continuous Integration (CI) and Continuous Deployment (CD) tools: Jenkins, Travis CI, CircleCI, etc.\n"
   ]
  },
  {
   "cell_type": "markdown",
   "metadata": {},
   "source": [
    "##\n",
    "\n",
    "Some of the popular languages that Data Scientists use are:\n",
    "\n",
    "Python, R, SQL, Julia, Scala, Java, Matlab, SAS, C/C++, Haskell."
   ]
  },
  {
   "cell_type": "markdown",
   "metadata": {},
   "source": [
    "## Some of the commonly used libraries used by Data Scientists include:\n",
    "\n",
    "Python:\n",
    "\n",
    "NumPy: Fundamental package for numerical computing with support for arrays and matrices.\n",
    "Pandas: Provides data structures and functions for efficient data manipulation and analysis.\n",
    "Matplotlib: Comprehensive 2D plotting library for creating static, interactive, and animated visualizations.\n",
    "Seaborn: Built on top of Matplotlib, Seaborn offers a high-level interface for creating attractive statistical graphics.\n",
    "Scikit-Learn: Simple and efficient tools for data mining and data analysis, including machine learning algorithms.\n",
    "TensorFlow: Open-source machine learning framework developed by Google for deep learning and neural networks.\n",
    "Keras: A high-level neural networks API, often used with TensorFlow backend.\n",
    "PyTorch: Deep learning framework known for dynamic computation graphs and flexibility.\n",
    "StatsModels: Offers classes and functions for estimating and interpreting different statistical models.\n",
    "SciPy: Collection of mathematical algorithms and functions built on the NumPy framework.\n",
    "R:\n",
    "\n",
    "dplyr: Provides a grammar of data manipulation for easy and intuitive data wrangling.\n",
    "ggplot2: Creates elegant and customizable data visualizations using a layered grammar of graphics.\n",
    "caret: Classification and regression training library with consistent interface for multiple algorithms.\n",
    "tidyr: Helps reshape and tidy up messy data.\n",
    "lubridate: Simplifies working with dates and times.\n",
    "randomForest: Implements random forests for classification and regression.\n",
    "xgboost: Implements gradient boosting algorithms.\n",
    "glmnet: Provides regularized regression models.\n",
    "tm: Text mining package for preprocessing and analyzing text data.\n",
    "Other Languages:\n",
    "\n",
    "Scrapy (Python): Framework for web scraping and extracting structured data.\n",
    "NLTK (Python): Natural Language Toolkit for working with human language data.\n",
    "NLTK (Python): Natural Language Toolkit for working with human language data.\n",
    "MXNet (Multiple languages): Deep learning framework with support for various programming languages.\n",
    "Caret (R): Provides a consistent interface for classification and regression models.\n",
    "H2O (Multiple languages): Open-source platform for machine learning and predictive analytics."
   ]
  },
  {
   "cell_type": "markdown",
   "metadata": {},
   "source": [
    "## Data Science Tools\n",
    "__________________________________________________________________________\n",
    "| Language | Popular Tools                                                |\n",
    "|----------|--------------------------------------------------------------|\n",
    "| Python   | NumPy, Pandas, Matplotlib, Seaborn, Scikit-Learn, TensorFlow |\n",
    "| R        | dplyr, ggplot2, caret, tidyr, lubridate, randomForest        |\n",
    "| SQL      | MySQL, PostgreSQL, Microsoft SQL Server, SQLite              |\n",
    "| Julia    | DataFrames.jl, MLJ                                           |\n",
    "| Scala    | Apache Spark                                                 |\n",
    "| Java     | Weka, Deeplearning4j                                         |\n",
    "| SAS      | SAS Analytics, SAS Visual Data Mining and Machine Learning   |\n",
    "| MATLAB   | MATLAB                                                       |\n",
    "| Haskell  | HLearn                                                       |\n",
    "|________________________________________________________________________ |"
   ]
  },
  {
   "cell_type": "markdown",
   "metadata": {},
   "source": [
    "## Below are a few examples of evaluating arithmetic expressions in Python\n",
    "\n",
    "\n",
    "\n",
    "1. Addition: `5 + 3 = 8`\n",
    "2. Subtraction: `10 - 7 = 3`\n",
    "3. Multiplication: `4 * 6 = 24`\n",
    "4. Division: `15 / 3 = 5`\n",
    "\n",
    "Arithmetic expressions can also involve parentheses to control the order of operations:\n",
    "\n",
    "- `3 * (4 + 2) = 18`\n",
    "- `(8 - 2) / 2 = 3`\n"
   ]
  },
  {
   "cell_type": "code",
   "execution_count": 2,
   "metadata": {
    "tags": []
   },
   "outputs": [
    {
     "name": "stdout",
     "output_type": "stream",
     "text": [
      "The product of 5 and 3 is 15\n",
      "The sum of 10 and 7 is 17\n"
     ]
    }
   ],
   "source": [
    "# Multiply two numbers\n",
    "x = 5\n",
    "y = 3\n",
    "product = x * y\n",
    "print(f\"The product of {x} and {y} is {product}\")\n",
    "\n",
    "# Add two numbers\n",
    "a = 10\n",
    "b = 7\n",
    "sum_result = a + b\n",
    "print(f\"The sum of {a} and {b} is {sum_result}\")"
   ]
  },
  {
   "cell_type": "code",
   "execution_count": 3,
   "metadata": {
    "tags": []
   },
   "outputs": [
    {
     "name": "stdout",
     "output_type": "stream",
     "text": [
      "The result of (3 * 4) + 5 is: 17\n"
     ]
    }
   ],
   "source": [
    "# This is a simple arithmetic expression to multiply then add integers.\n",
    "result = (3 * 4) + 5\n",
    "print(\"The result of (3 * 4) + 5 is:\", result)\n"
   ]
  },
  {
   "cell_type": "code",
   "execution_count": 4,
   "metadata": {
    "tags": []
   },
   "outputs": [
    {
     "name": "stdout",
     "output_type": "stream",
     "text": [
      "200 minutes is equal to 3.3333333333333335 hours\n"
     ]
    }
   ],
   "source": [
    "# This will convert 200 minutes to hours by dividing by 60.\n",
    "minutes = 200\n",
    "hours = minutes / 60\n",
    "print(\"200 minutes is equal to\", hours, \"hours\")\n"
   ]
  },
  {
   "cell_type": "markdown",
   "metadata": {},
   "source": [
    "## Objectives:\n",
    "\n",
    "- List popular programming languages used in Data Science.\n",
    "- Introduce essential libraries and tools for data manipulation and analysis.\n",
    "- Explain the role of visualization in data exploration and communication.\n",
    "- Explore machine learning frameworks for predictive modeling.\n",
    "- Discuss version control and collaboration tools relevant to data science.\n"
   ]
  },
  {
   "cell_type": "markdown",
   "metadata": {},
   "source": [
    "# Author\n",
    "\n"
   ]
  }
 ],
 "metadata": {
  "kernelspec": {
   "display_name": "Python",
   "language": "python",
   "name": "conda-env-python-py"
  },
  "language_info": {
   "codemirror_mode": {
    "name": "ipython",
    "version": 3
   },
   "file_extension": ".py",
   "mimetype": "text/x-python",
   "name": "python",
   "nbconvert_exporter": "python",
   "pygments_lexer": "ipython3",
   "version": "3.7.12"
  }
 },
 "nbformat": 4,
 "nbformat_minor": 4
}
